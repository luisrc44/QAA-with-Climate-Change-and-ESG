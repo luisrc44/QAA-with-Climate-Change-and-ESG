{
 "cells": [
  {
   "cell_type": "code",
   "execution_count": 1,
   "id": "7e57c103",
   "metadata": {},
   "outputs": [],
   "source": [
    "import yfinance as yf\n",
    "import pandas as pd\n",
    "import numpy as np \n",
    "import warnings\n",
    "warnings.filterwarnings('ignore')\n",
    "\n",
    "\n",
    "from data_downloader import DataDownloader, ClimateDataCleaner, EconomicDataCleaner\n",
    "from var_model import ClimateVAR\n",
    "from sdice_model import SimplifiedDICE"
   ]
  },
  {
   "cell_type": "code",
   "execution_count": 3,
   "id": "a2280401",
   "metadata": {},
   "outputs": [
    {
     "name": "stderr",
     "output_type": "stream",
     "text": [
      "[*********************100%%**********************]  9 of 9 completed\n",
      "[*********************100%%**********************]  1 of 1 completed\n"
     ]
    }
   ],
   "source": [
    "# Instancia para limpiar y procesar los datos climáticos\n",
    "climate_cleaner = ClimateDataCleaner('Data/Temperature.csv', 'Data/Drought_Severity.csv', 'Data/CO2_Emissions.xlsx')\n",
    "climate_data = climate_cleaner.clean_and_prepare_data()\n",
    "\n",
    "# Instancia para limpiar y procesar los datos climáticos\n",
    "economic_cleaner = EconomicDataCleaner('Data/GDP.csv', 'Data/TB3MS.csv', 'Data/CPI.csv')\n",
    "economic_data = economic_cleaner.clean_and_prepare_data()\n",
    "\n",
    "# Descarga los datos financieros\n",
    "downloader = DataDownloader()\n",
    "assets = ['AAPL', 'IBM', 'TSLA', 'GOOG', 'NVDA', 'NEE', 'FSLR', 'VWDRY', 'BEP'] \n",
    "benchmark = '^GSPC'  \n",
    "start_date = '2014-11-01'\n",
    "end_date = '2024-05-31'\n",
    "rf = .065\n",
    "\n",
    "asset_prices, benchmark_prices = downloader.download_data(start_date=start_date, \n",
    "                                                          end_date=end_date, \n",
    "                                                          assets=assets, \n",
    "                                                          benchmark=benchmark)\n",
    "\n",
    "# Combina los datos climáticos y financieros\n",
    "combined_data = pd.merge(asset_prices, climate_data, on='Date')"
   ]
  },
  {
   "cell_type": "code",
   "execution_count": 6,
   "id": "ad0c3468",
   "metadata": {},
   "outputs": [
    {
     "data": {
      "text/html": [
       "<div>\n",
       "<style scoped>\n",
       "    .dataframe tbody tr th:only-of-type {\n",
       "        vertical-align: middle;\n",
       "    }\n",
       "\n",
       "    .dataframe tbody tr th {\n",
       "        vertical-align: top;\n",
       "    }\n",
       "\n",
       "    .dataframe thead th {\n",
       "        text-align: right;\n",
       "    }\n",
       "</style>\n",
       "<table border=\"1\" class=\"dataframe\">\n",
       "  <thead>\n",
       "    <tr style=\"text-align: right;\">\n",
       "      <th></th>\n",
       "      <th>GDP</th>\n",
       "      <th>TB3MS</th>\n",
       "      <th>CPI</th>\n",
       "    </tr>\n",
       "    <tr>\n",
       "      <th>Date</th>\n",
       "      <th></th>\n",
       "      <th></th>\n",
       "      <th></th>\n",
       "    </tr>\n",
       "  </thead>\n",
       "  <tbody>\n",
       "    <tr>\n",
       "      <th>2014-12-01</th>\n",
       "      <td>17912.079</td>\n",
       "      <td>0.02</td>\n",
       "      <td>237.430</td>\n",
       "    </tr>\n",
       "    <tr>\n",
       "      <th>2015-01-01</th>\n",
       "      <td>18063.529</td>\n",
       "      <td>0.03</td>\n",
       "      <td>234.747</td>\n",
       "    </tr>\n",
       "    <tr>\n",
       "      <th>2015-02-01</th>\n",
       "      <td>18063.529</td>\n",
       "      <td>0.03</td>\n",
       "      <td>234.747</td>\n",
       "    </tr>\n",
       "    <tr>\n",
       "      <th>2015-03-01</th>\n",
       "      <td>18063.529</td>\n",
       "      <td>0.03</td>\n",
       "      <td>234.747</td>\n",
       "    </tr>\n",
       "    <tr>\n",
       "      <th>2015-04-01</th>\n",
       "      <td>18279.784</td>\n",
       "      <td>0.02</td>\n",
       "      <td>236.222</td>\n",
       "    </tr>\n",
       "    <tr>\n",
       "      <th>...</th>\n",
       "      <td>...</td>\n",
       "      <td>...</td>\n",
       "      <td>...</td>\n",
       "    </tr>\n",
       "    <tr>\n",
       "      <th>2023-12-01</th>\n",
       "      <td>27956.998</td>\n",
       "      <td>5.34</td>\n",
       "      <td>307.531</td>\n",
       "    </tr>\n",
       "    <tr>\n",
       "      <th>2024-01-01</th>\n",
       "      <td>28269.174</td>\n",
       "      <td>5.22</td>\n",
       "      <td>309.685</td>\n",
       "    </tr>\n",
       "    <tr>\n",
       "      <th>2024-02-01</th>\n",
       "      <td>28269.174</td>\n",
       "      <td>5.22</td>\n",
       "      <td>309.685</td>\n",
       "    </tr>\n",
       "    <tr>\n",
       "      <th>2024-03-01</th>\n",
       "      <td>28269.174</td>\n",
       "      <td>5.22</td>\n",
       "      <td>309.685</td>\n",
       "    </tr>\n",
       "    <tr>\n",
       "      <th>2024-04-01</th>\n",
       "      <td>28652.337</td>\n",
       "      <td>5.24</td>\n",
       "      <td>313.207</td>\n",
       "    </tr>\n",
       "  </tbody>\n",
       "</table>\n",
       "<p>113 rows × 3 columns</p>\n",
       "</div>"
      ],
      "text/plain": [
       "                  GDP  TB3MS      CPI\n",
       "Date                                 \n",
       "2014-12-01  17912.079   0.02  237.430\n",
       "2015-01-01  18063.529   0.03  234.747\n",
       "2015-02-01  18063.529   0.03  234.747\n",
       "2015-03-01  18063.529   0.03  234.747\n",
       "2015-04-01  18279.784   0.02  236.222\n",
       "...               ...    ...      ...\n",
       "2023-12-01  27956.998   5.34  307.531\n",
       "2024-01-01  28269.174   5.22  309.685\n",
       "2024-02-01  28269.174   5.22  309.685\n",
       "2024-03-01  28269.174   5.22  309.685\n",
       "2024-04-01  28652.337   5.24  313.207\n",
       "\n",
       "[113 rows x 3 columns]"
      ]
     },
     "execution_count": 6,
     "metadata": {},
     "output_type": "execute_result"
    }
   ],
   "source": [
    "economic_data"
   ]
  },
  {
   "cell_type": "code",
   "execution_count": null,
   "id": "1cc12156",
   "metadata": {},
   "outputs": [],
   "source": [
    "asset_prices.plot(x='Date', y=assets, figsize=(14, 7), title='Asset Returns')"
   ]
  },
  {
   "cell_type": "code",
   "execution_count": null,
   "id": "73731b2f",
   "metadata": {},
   "outputs": [],
   "source": [
    "# Assuming beta_calculator.calculate_betas() returns a DataFrame\n",
    "betas = beta_calculator.calculate_betas()\n",
    "\n",
    "# Plot the betas\n",
    "betas.plot(kind='bar', figsize=(14, 7), title='Calculated Betas')"
   ]
  },
  {
   "cell_type": "code",
   "execution_count": null,
   "id": "1d990c5d",
   "metadata": {},
   "outputs": [],
   "source": [
    "# Longitud de asset_prices\n",
    "len_asset_prices = len(asset_prices)\n",
    "print(f\"Longitud de asset_prices: {len_asset_prices}\")\n",
    "\n",
    "# Longitud de climate_data\n",
    "len_climate_data = len(climate_data)\n",
    "print(f\"Longitud de climate_data: {len_climate_data}\")"
   ]
  },
  {
   "cell_type": "code",
   "execution_count": null,
   "id": "75a94d82",
   "metadata": {},
   "outputs": [],
   "source": []
  }
 ],
 "metadata": {
  "kernelspec": {
   "display_name": "Python 3 (ipykernel)",
   "language": "python",
   "name": "python3"
  },
  "language_info": {
   "codemirror_mode": {
    "name": "ipython",
    "version": 3
   },
   "file_extension": ".py",
   "mimetype": "text/x-python",
   "name": "python",
   "nbconvert_exporter": "python",
   "pygments_lexer": "ipython3",
   "version": "3.11.7"
  }
 },
 "nbformat": 4,
 "nbformat_minor": 5
}
