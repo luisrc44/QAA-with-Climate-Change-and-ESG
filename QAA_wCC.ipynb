{
 "cells": [
  {
   "cell_type": "code",
   "execution_count": 1,
   "id": "7e57c103",
   "metadata": {},
   "outputs": [],
   "source": [
    "import yfinance as yf\n",
    "import pandas as pd\n",
    "import numpy as np \n",
    "import warnings\n",
    "warnings.filterwarnings('ignore')\n",
    "\n",
    "\n",
    "from data_downloader import DataDownloader\n",
    "from data_downloader import BetaCalculator\n",
    "from data_downloader import ClimateDataCleaner\n",
    "from var_model import VAR\n",
    "from dice_model import DiceModel"
   ]
  },
  {
   "cell_type": "code",
   "execution_count": null,
   "id": "a72ecf6d",
   "metadata": {},
   "outputs": [],
   "source": [
    "downloader = DataDownloader()\n",
    "\n",
    "assets = ['AAPL', 'IBM', 'TSLA', 'GOOG', 'NVDA', 'NEE', 'FSLR', 'VWDRY', 'BEP'] \n",
    "benchmark = '^GSPC'  \n",
    "start_date = '2014-12-01'\n",
    "end_date = '2024-05-31'\n",
    "rf = .065\n",
    "\n",
    "asset_prices, benchmark_prices = downloader.download_data(start_date=start_date, end_date=end_date,\n",
    "                                                                      assets=assets, benchmark=benchmark)"
   ]
  },
  {
   "cell_type": "code",
   "execution_count": null,
   "id": "0f962132",
   "metadata": {},
   "outputs": [],
   "source": [
    "asset_prices.head()"
   ]
  },
  {
   "cell_type": "code",
   "execution_count": null,
   "id": "94605c34",
   "metadata": {},
   "outputs": [],
   "source": [
    "asset_prices"
   ]
  },
  {
   "cell_type": "code",
   "execution_count": null,
   "id": "9215f9b5",
   "metadata": {},
   "outputs": [],
   "source": [
    "# Example usage:\n",
    "cleaner = ClimateDataCleaner('Data/Temperature.csv', 'Data/Drought_Severity.csv', 'Data/CO2_Emissions.xlsx')\n",
    "\n",
    "# Clean and prepare the data\n",
    "cleaned_data = cleaner.clean_and_prepare_data()\n",
    "\n",
    "# Display the cleaned and merged data\n",
    "cleaned_data"
   ]
  },
  {
   "cell_type": "code",
   "execution_count": null,
   "id": "1cc12156",
   "metadata": {},
   "outputs": [],
   "source": [
    "asset_prices.plot(x='Date', y=assets, figsize=(14, 7), title='Asset Returns')"
   ]
  }
 ],
 "metadata": {
  "kernelspec": {
   "display_name": "Python 3 (ipykernel)",
   "language": "python",
   "name": "python3"
  },
  "language_info": {
   "codemirror_mode": {
    "name": "ipython",
    "version": 3
   },
   "file_extension": ".py",
   "mimetype": "text/x-python",
   "name": "python",
   "nbconvert_exporter": "python",
   "pygments_lexer": "ipython3",
   "version": "3.11.4"
  }
 },
 "nbformat": 4,
 "nbformat_minor": 5
}
