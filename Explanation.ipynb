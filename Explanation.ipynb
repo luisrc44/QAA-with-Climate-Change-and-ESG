{
 "cells": [
  {
   "cell_type": "markdown",
   "metadata": {},
   "source": [
    "## Green Economy Asset Allocation (GEAA)\n"
   ]
  },
  {
   "cell_type": "markdown",
   "metadata": {},
   "source": [
    "\n",
    "## Introducción\n",
    "\n",
    "El proyecto **Green Economy Asset Allocation (GEAA)** tiene como objetivo desarrollar un modelo de asignación de activos que combine métricas económicas y medioambientales para promover estrategias de inversión sostenibles. Este modelo integra el rendimiento financiero con datos relacionados al clima para evaluar y optimizar la asignación de activos. A continuación se describen las variables, todas centradas en la economía de los Estados Unidos, que se utilizarán para realizar pruebas retrospectivas (backtesting) desde el año 2014 hasta la fecha.\n",
    "\n",
    "\n",
    "\n",
    "### Activos \n",
    "\n",
    "1. Activos Grey:\n",
    "   - Los activos \"grey\" son aquellos que están más expuestos a emisiones de carbono y que se ven afectados negativamente por el cambio climático. Estos activos incluyen sectores como energía fósil, manufactura pesada y transporte tradicional.\n",
    "\n",
    "2. Activos Green:\n",
    "   - Los activos \"green\" son aquellos que tienen un bajo impacto de emisiones de carbono, como las energías renovables, tecnologías limpias y bonos verdes. Estos activos son más resistentes a los riesgos climáticos y están diseñados para apoyar la transición hacia una economía baja en carbono.\n",
    "\n",
    "\n",
    "---\n"
   ]
  },
  {
   "cell_type": "markdown",
   "metadata": {},
   "source": [
    "\n",
    "### Variables:\n",
    "\n",
    "1. Carbon Dioxide Emissions From Energy Consumption\n",
    "   - **Descripción**: Mide las emisiones totales de dióxido de carbono (CO₂) derivadas del consumo de energía en Estados Unidos, obtenidas de la quema de combustibles fósiles.\n",
    "   - **Unidades**: Millones de toneladas métricas.\n",
    "   - **Fuente**: U.S. Energy Information Administration (EIA).\n",
    "   - **Frecuencia**: Mensual.\n",
    "   - **Período de inicio**: 1973.\n",
    "\n",
    "2. Consumer Price Index (CPI)\n",
    "   - **Descripción**: Mide los cambios en los precios de una canasta de bienes y servicios, siendo un indicador clave de la inflación en EE.UU.\n",
    "   - **Unidades**: Índice ajustado estacionalmente.\n",
    "   - **Fuente**: U.S. Bureau of Labor Statistics (FRED).\n",
    "   - **Frecuencia**: Mensual.\n",
    "   - **Período de inicio**: 1947.\n",
    "\n",
    "3. Gross Domestic Product (GDP)\n",
    "   - **Descripción**: El PIB mide el valor de todos los bienes y servicios producidos en Estados Unidos, reflejando el rendimiento económico del país.\n",
    "   - **Unidades**: Miles de millones de dólares ajustados estacionalmente.\n",
    "   - **Fuente**: U.S. Bureau of Economic Analysis (FRED).\n",
    "   - **Frecuencia**: Trimestral.\n",
    "   - **Período de inicio**: 1947.\n",
    "   - **Importante:** Para fines práticos y como la data era trimestral, se convirtió de forma mensual dando el mismo valor a los 3 meses.\n",
    "\n",
    "4. Treasury Bill Secondary Market Rate (3 Months)\n",
    "   - **Descripción**: Mide el rendimiento de los valores del Tesoro a 3 meses en el mercado secundario, indicando tasas de interés a corto plazo.\n",
    "   - **Unidades**: Porcentaje (%).\n",
    "   - **Fuente**: FRED.\n",
    "   - **Frecuencia**: Mensual.\n",
    "   - **Período de inicio**: 1934.\n",
    "\n",
    "5. Temperatura\n",
    "   - **Descripción**: Mide la temperatura media mensual en Estados Unidos, un indicador clave para evaluar el impacto del cambio climático.\n",
    "   - **Unidades**: Grados Celsius.\n",
    "   - **Fuente**: Meteoblue.\n",
    "   - **Frecuencia**: Mensual.\n",
    "   - **Período de inicio**: 1940.\n",
    "\n",
    "6. Drought Severity\n",
    "   - **Descripción**: Mide la severidad de las sequías en Estados Unidos, evaluando su impacto en la economía y los recursos naturales.\n",
    "   - **Unidades**: Índice.\n",
    "   - **Fuente**: National Drought Mitigation Center.\n",
    "   - **Frecuencia**: Semanal.\n",
    "   - **Período de inicio**: 2014.\n",
    "\n",
    "El proyecto incluirá datos históricos de cada una de estas variables, abarcando el período desde 2014 hasta la actualidad. Al integrar datos económicos y medioambientales, el modelo tiene como objetivo crear un portafolio balanceado que maximice los rendimientos al tiempo que considera el impacto ambiental, haciéndolo resiliente tanto a las fluctuaciones del mercado como a los riesgos climáticos.\n",
    "\n",
    "---"
   ]
  },
  {
   "cell_type": "markdown",
   "metadata": {},
   "source": [
    "### ClimateVR\n",
    "\n",
    "Este código implementa un modelo de regresión vectorial (VR) con variables climáticas, diseñado para analizar la relación entre variables económicas, climáticas y de mercado. El código incluye simulaciones de escenarios futuros y optimización de parámetros usando la biblioteca `Optuna`.\n",
    "\n",
    "1. **Clase ClimateVR**:\n",
    "   - **Inicialización**: La clase toma como entrada variables endógenas (económicas o de mercado), datos climáticos opcionales y fechas. Si las variables climáticas están presentes, se integran con las endógenas.\n",
    "   - **Método `fit`**: Ajusta el modelo VR utilizando un número definido de retardos (lags) para las variables endógenas. El método genera una matriz de retardos y realiza una regresión ordinaria para estimar los parámetros del modelo.\n",
    "   - **Método `predict`**: Realiza predicciones basadas en los parámetros ajustados y el número de retardos especificado. Genera valores futuros para las variables endógenas, ajustándolos según la tendencia o el modelo especificado.\n",
    "   - **Método `optimize_maxlags`**: Utiliza `Optuna` para optimizar el número de retardos (lags) del modelo VR. El objetivo es minimizar el error cuadrático medio (RMSE) al predecir las variables en función de diferentes retardos.\n",
    "   - **Método `simulate_scenarios`**: Simula varios escenarios futuros para las variables utilizando un random walk basado en el modelo VR ajustado, añadiendo ruido gaussiano para generar trayectorias variables. Este método permite generar múltiples trayectorias de predicciones futuras.\n",
    "\n",
    "El código está diseñado para ser flexible, permitiendo la optimización y simulación de escenarios futuros basados en variables climáticas y económicas, lo que es útil para evaluar el impacto de distintos factores climáticos en las variables económicas a largo plazo.\n",
    "\n",
    "---"
   ]
  },
  {
   "cell_type": "markdown",
   "metadata": {},
   "source": [
    "### DataDownloader\n",
    "\n",
    "Este código se compone de tres clases principales: **DataDownloader**, **EconomicDataCleaner** y **ClimateDataCleaner**, cada una encargada de diferentes aspectos del manejo y procesamiento de datos financieros, económicos y climáticos.\n",
    "\n",
    "1. **DataDownloader**:\n",
    "   - Esta clase descarga precios ajustados de cierre para activos financieros y un benchmark, utilizando `yfinance`. La función `download_data` calcula los retornos mensuales de los activos y el benchmark, devolviendo los resultados en dos DataFrames. Estos retornos son útiles para análisis financieros y backtesting.\n",
    "\n",
    "2. **EconomicDataCleaner**:\n",
    "   - Esta clase gestiona la carga, limpieza y preparación de datos económicos como el PIB (GDP), la tasa de los bonos del Tesoro a 3 meses (TB3) y el Índice de Precios al Consumidor (CPI). Cada conjunto de datos se limpia individualmente en las funciones `clean_gdp`, `clean_tb3`, y `clean_cpi`, que ajustan los formatos de fechas y procesan los datos. La función `merge_data` combina estos datasets en un único DataFrame alineado a una frecuencia mensual para facilitar su análisis.\n",
    "\n",
    "3. **ClimateDataCleaner**:\n",
    "   - Esta clase se encarga de la limpieza y procesamiento de datos climáticos y de emisiones de CO2. Los datasets de temperatura, sequías y emisiones de CO2 se cargan y limpian utilizando funciones como `clean_temperature`, `clean_drought`, y `clean_co2_emission`. La función `merge_data` combina estos datos en un solo DataFrame, lo que permite analizar las relaciones entre el clima y los datos económicos.\n",
    "\n",
    "Cada clase está diseñada para procesar y preparar los datos de manera eficiente, facilitando su uso en análisis financieros, económicos y climáticos.\n",
    "\n",
    "\n",
    "---"
   ]
  },
  {
   "cell_type": "markdown",
   "metadata": {},
   "source": [
    "### SimplifiedDICE\n",
    "\n",
    "La clase **SimplifiedDICE** modela el impacto del cambio climático sobre la economía global mediante un enfoque simplificado del modelo DICE. Los parámetros principales incluyen la temperatura inicial, las emisiones de CO2, la sensibilidad climática y la tasa de descuento. Esta clase permite simular cómo las emisiones afectan la temperatura global y, a su vez, el daño económico derivado del cambio climático.\n",
    "\n",
    "- Métodos principales:\n",
    "    - **`carbon_cycle`**: Modela el ciclo del carbono, mostrando cómo las emisiones afectan las concentraciones de CO2.\n",
    "    - **`temperature_change`**: Calcula el cambio en la temperatura global basado en las emisiones de CO2.\n",
    "    - **`economic_damage`**: Estima el impacto económico del aumento de la temperatura sobre la producción económica.\n",
    "    - **`simulate_climate_impact`**: Simula durante un número de años el impacto climático en la economía, generando series temporales de temperatura, emisiones y daños económicos.\n",
    "    - **`plot_simulation`**: Genera gráficos que muestran la evolución de las variables clave (temperatura, emisiones, daños económicos y producción económica).\n",
    "\n",
    "- ScenarioDICE\n",
    "\n",
    "    La clase **ScenarioDICE** extiende **SimplifiedDICE**, permitiendo la simulación de múltiples escenarios climáticos con diferentes parámetros aleatorios. Esto es útil para evaluar cómo cambios en las condiciones iniciales y en las políticas de mitigación pueden afectar los resultados económicos a largo plazo.\n",
    "\n",
    "-  Métodos adicionales:\n",
    "    - **`generate_random_scenarios`**: Crea múltiples escenarios con valores aleatorios para parámetros como sensibilidad climática y costos de reducción de emisiones.\n",
    "    - **`simulate_multiple_scenarios`**: Simula varios escenarios con diferentes parámetros y muestra los resultados en términos de temperatura, emisiones y daños económicos.\n",
    "    - **`plot_scenarios`**: Genera gráficos comparativos entre los escenarios simulados para analizar visualmente las diferencias en los resultados climáticos y económicos.\n",
    "\n",
    "Este modelo permite una evaluación dinámica y flexible del impacto del cambio climático y las posibles políticas de mitigación.\n"
   ]
  },
  {
   "cell_type": "markdown",
   "metadata": {},
   "source": [
    "---\n",
    "### PortfolioOptimizer\n",
    "\n",
    "La clase **PortfolioOptimizer** está diseñada para optimizar un portafolio de activos financieros considerando factores económicos y climáticos. Esta clase calcula métricas financieras como el Sharpe Ratio, Jensen Alpha, Sortino Ratio, y Omega Ratio para evaluar el rendimiento de diferentes combinaciones de activos y ajusta los retornos del portafolio usando factores externos.\n",
    "\n",
    "- Métodos principales:\n",
    "    - **`calculate_beta`**: Calcula el beta del portafolio en relación con el S&P 500.\n",
    "    - **`calculate_jensen_alpha`**: Calcula el Alpha de Jensen, que mide el exceso de retorno del portafolio ajustado por riesgo.\n",
    "    - **`calculate_sharpe_ratio`**: Calcula el Sharpe Ratio, que mide el retorno ajustado al riesgo del portafolio.\n",
    "    - **`neg_omega_ratio`**: Calcula el Omega Ratio negativo, que evalúa la proporción entre retornos positivos y negativos.\n",
    "    - **`neg_sortino_ratio`**: Calcula el Sortino Ratio negativo, que mide el retorno ajustado al riesgo penalizando más las caídas.\n",
    "    - **`calculate_adjusted_return`**: Ajusta los retornos del portafolio utilizando factores económicos y climáticos, lo que permite incluir variables externas en el análisis del portafolio.\n",
    "    - **`objective_function`**: Función objetivo utilizada en la optimización, basada en maximizar los retornos ajustados del portafolio.\n",
    "    - **`optimize_with_slsqp`**: Optimiza los pesos del portafolio usando el método SLSQP, considerando los factores climáticos y económicos.\n",
    "    - **`optimize_with_multiple_strategies`**: Genera y optimiza múltiples portafolios según diferentes estrategias (Sharpe, Omega, Sortino) y retorna un ranking de los mejores portafolios.\n",
    "\n",
    "Este código es útil para generar portafolios eficientes considerando tanto factores financieros como climáticos, lo que permite una optimización más robusta y adaptada a las condiciones actuales del mercado y del medio ambiente.\n"
   ]
  },
  {
   "cell_type": "markdown",
   "metadata": {},
   "source": []
  }
 ],
 "metadata": {
  "kernelspec": {
   "display_name": "base",
   "language": "python",
   "name": "python3"
  },
  "language_info": {
   "codemirror_mode": {
    "name": "ipython",
    "version": 3
   },
   "file_extension": ".py",
   "mimetype": "text/x-python",
   "name": "python",
   "nbconvert_exporter": "python",
   "pygments_lexer": "ipython3",
   "version": "3.11.4"
  }
 },
 "nbformat": 4,
 "nbformat_minor": 2
}
