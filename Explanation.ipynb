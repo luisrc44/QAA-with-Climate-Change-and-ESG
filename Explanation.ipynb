{
 "cells": [
  {
   "cell_type": "markdown",
   "metadata": {},
   "source": [
    "## Green Economy Asset Allocation (GEAA)\n"
   ]
  },
  {
   "cell_type": "markdown",
   "metadata": {},
   "source": [
    "\n",
    "## Introducción\n",
    "\n",
    "El proyecto **Green Economy Asset Allocation (GEAA)** tiene como objetivo desarrollar un modelo de asignación de activos que combine métricas económicas y medioambientales para promover estrategias de inversión sostenibles. Este modelo integra el rendimiento financiero con datos relacionados al clima para evaluar y optimizar la asignación de activos. A continuación se describen las variables, todas centradas en la economía de los Estados Unidos, que se utilizarán para realizar pruebas retrospectivas (backtesting) desde el año 2014 hasta la fecha.\n",
    "\n",
    "\n",
    "\n",
    "### Activos \n",
    "\n",
    "1. Activos Grey:\n",
    "   - Los activos \"grey\" son aquellos que están más expuestos a emisiones de carbono y que se ven afectados negativamente por el cambio climático. Estos activos incluyen sectores como energía fósil, manufactura pesada y transporte tradicional.\n",
    "\n",
    "2. Activos Green:\n",
    "   - Los activos \"green\" son aquellos que tienen un bajo impacto de emisiones de carbono, como las energías renovables, tecnologías limpias y bonos verdes. Estos activos son más resistentes a los riesgos climáticos y están diseñados para apoyar la transición hacia una economía baja en carbono.\n",
    "\n",
    "\n",
    "---\n"
   ]
  },
  {
   "cell_type": "markdown",
   "metadata": {},
   "source": [
    "\n",
    "### Variables:\n",
    "\n",
    "1. Carbon Dioxide Emissions From Energy Consumption\n",
    "   - **Descripción**: Mide las emisiones totales de dióxido de carbono (CO₂) derivadas del consumo de energía en Estados Unidos, obtenidas de la quema de combustibles fósiles.\n",
    "   - **Unidades**: Millones de toneladas métricas.\n",
    "   - **Fuente**: U.S. Energy Information Administration (EIA).\n",
    "   - **Frecuencia**: Mensual.\n",
    "   - **Período de inicio**: 1973.\n",
    "\n",
    "2. Consumer Price Index (CPI)\n",
    "   - **Descripción**: Mide los cambios en los precios de una canasta de bienes y servicios, siendo un indicador clave de la inflación en EE.UU.\n",
    "   - **Unidades**: Índice ajustado estacionalmente.\n",
    "   - **Fuente**: U.S. Bureau of Labor Statistics (FRED).\n",
    "   - **Frecuencia**: Mensual.\n",
    "   - **Período de inicio**: 1947.\n",
    "\n",
    "3. Gross Domestic Product (GDP)\n",
    "   - **Descripción**: El PIB mide el valor de todos los bienes y servicios producidos en Estados Unidos, reflejando el rendimiento económico del país.\n",
    "   - **Unidades**: Miles de millones de dólares ajustados estacionalmente.\n",
    "   - **Fuente**: U.S. Bureau of Economic Analysis (FRED).\n",
    "   - **Frecuencia**: Trimestral.\n",
    "   - **Período de inicio**: 1947.\n",
    "   - **Importante:** Para fines práticos y como la data era trimestral, se convirtió de forma mensual dando el mismo valor a los 3 meses.\n",
    "\n",
    "4. Treasury Bill Secondary Market Rate (3 Months)\n",
    "   - **Descripción**: Mide el rendimiento de los valores del Tesoro a 3 meses en el mercado secundario, indicando tasas de interés a corto plazo.\n",
    "   - **Unidades**: Porcentaje (%).\n",
    "   - **Fuente**: FRED.\n",
    "   - **Frecuencia**: Mensual.\n",
    "   - **Período de inicio**: 1934.\n",
    "\n",
    "5. Temperatura\n",
    "   - **Descripción**: Mide la temperatura media mensual en Estados Unidos, un indicador clave para evaluar el impacto del cambio climático.\n",
    "   - **Unidades**: Grados Celsius.\n",
    "   - **Fuente**: Meteoblue.\n",
    "   - **Frecuencia**: Mensual.\n",
    "   - **Período de inicio**: 1940.\n",
    "\n",
    "6. Drought Severity\n",
    "   - **Descripción**: Mide la severidad de las sequías en Estados Unidos, evaluando su impacto en la economía y los recursos naturales.\n",
    "   - **Unidades**: Índice.\n",
    "   - **Fuente**: National Drought Mitigation Center.\n",
    "   - **Frecuencia**: Semanal.\n",
    "   - **Período de inicio**: 2014.\n",
    "\n",
    "El proyecto incluirá datos históricos de cada una de estas variables, abarcando el período desde 2014 hasta la actualidad. Al integrar datos económicos y medioambientales, el modelo tiene como objetivo crear un portafolio balanceado que maximice los rendimientos al tiempo que considera el impacto ambiental, haciéndolo resiliente tanto a las fluctuaciones del mercado como a los riesgos climáticos.\n",
    "\n",
    "---"
   ]
  },
  {
   "cell_type": "markdown",
   "metadata": {},
   "source": [
    "### DataDownloader\n",
    "\n",
    "Este código se compone de tres clases principales: **DataDownloader**, **EconomicDataCleaner** y **ClimateDataCleaner**, cada una encargada de diferentes aspectos del manejo y procesamiento de datos financieros, económicos y climáticos.\n",
    "\n",
    "1. **DataDownloader**:\n",
    "   - Esta clase descarga precios ajustados de cierre para activos financieros y un benchmark, utilizando `yfinance`. La función `download_data` calcula los retornos mensuales de los activos y el benchmark, devolviendo los resultados en dos DataFrames. Estos retornos son útiles para análisis financieros y backtesting.\n",
    "\n",
    "2. **EconomicDataCleaner**:\n",
    "   - Esta clase gestiona la carga, limpieza y preparación de datos económicos como el PIB (GDP), la tasa de los bonos del Tesoro a 3 meses (TB3) y el Índice de Precios al Consumidor (CPI). Cada conjunto de datos se limpia individualmente en las funciones `clean_gdp`, `clean_tb3`, y `clean_cpi`, que ajustan los formatos de fechas y procesan los datos. La función `merge_data` combina estos datasets en un único DataFrame alineado a una frecuencia mensual para facilitar su análisis.\n",
    "\n",
    "3. **ClimateDataCleaner**:\n",
    "   - Esta clase se encarga de la limpieza y procesamiento de datos climáticos y de emisiones de CO2. Los datasets de temperatura, sequías y emisiones de CO2 se cargan y limpian utilizando funciones como `clean_temperature`, `clean_drought`, y `clean_co2_emission`. La función `merge_data` combina estos datos en un solo DataFrame, lo que permite analizar las relaciones entre el clima y los datos económicos.\n",
    "\n",
    "Cada clase está diseñada para procesar y preparar los datos de manera eficiente, facilitando su uso en análisis financieros, económicos y climáticos.\n"
   ]
  },
  {
   "cell_type": "markdown",
   "metadata": {},
   "source": []
  }
 ],
 "metadata": {
  "kernelspec": {
   "display_name": "base",
   "language": "python",
   "name": "python3"
  },
  "language_info": {
   "codemirror_mode": {
    "name": "ipython",
    "version": 3
   },
   "file_extension": ".py",
   "mimetype": "text/x-python",
   "name": "python",
   "nbconvert_exporter": "python",
   "pygments_lexer": "ipython3",
   "version": "3.11.4"
  }
 },
 "nbformat": 4,
 "nbformat_minor": 2
}
